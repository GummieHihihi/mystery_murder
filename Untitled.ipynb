{
 "cells": [
  {
   "cell_type": "code",
   "execution_count": null,
   "id": "3a2cd4e0-3f11-46e5-877f-1c13372ac443",
   "metadata": {},
   "outputs": [],
   "source": []
  }
 ],
 "metadata": {
  "kernelspec": {
   "display_name": "",
   "name": ""
  },
  "language_info": {
   "name": ""
  }
 },
 "nbformat": 4,
 "nbformat_minor": 5
}
